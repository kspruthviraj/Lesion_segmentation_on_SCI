{
 "cells": [
  {
   "cell_type": "code",
   "execution_count": 1,
   "metadata": {},
   "outputs": [],
   "source": [
    "import os\n",
    "import sct_utils as sct\n",
    "\n",
    "from msct_image import Image\n",
    "from sct_deepseg_lesion import crop_image_around_centerline \n",
    "from sct_deepseg_lesion import apply_intensity_normalization"
   ]
  },
  {
   "cell_type": "code",
   "execution_count": 2,
   "metadata": {},
   "outputs": [
    {
     "name": "stdout",
     "output_type": "stream",
     "text": [
      "['aa1', 'ap4', 'aq0', 'ar1', 'ar2', 'au8', 'av9', 'aw5', 'ax9', 'az7', 'bc8', 'bf1', 'bf7', 'bg1', 'bh1', 'ca3', 'cc4', 'cd2', 'cf7', 'ci0', 'cj9', 'ck9', 'cu8', 'cv2', 'cv6', 'cw2', 'cx8', 'cy7', 'dc6', 'dd8', 'de3', 'df0', 'df1', 'df6', 'do0', 'do9', 'dp0', 'dp9', 'dq1', 'dt6', 'du3', 'dw3', 'dw4', 'dz2', 'dz3', 'ej4', 'ep7', 'eq1', 'er3', 'er9', 'et5', 'fd2', 'fd5', 'fd6', 'fd8', 'fe8', 'ff8', 'fo3', 'fo5', 'fq7', 'fr2', 'fu3', 'fu9', 'ga6', 'gc6', 'gf1', 'gf2', 'gg0', 'gg2', 'gg8', 'gg9', 'gh1', 'gh5', 'gt2', 'gt6', 'gt8', 'hc4', 'hc7', 'hh8', 'hj8', 'hj9', 'ho5', 'hq0', 'ht6', 'ht7', 'hu2', 'id9', 'ij7', 'ir2', 'it7', 'iu3', 'ji1', 'jj3', 'ju7', 'ka2', 'ka8', 'ka9', 'ke4', 'ki3', 'kj2', 'kj9', 'kn6', 'ko0', 'ko1', 'ky3', 'la9', 'lj7', 'lk2', 'lo8', 'lp0', 'md4', 'md8', 'mf0', 'mf5', 'mo9', 'mq7', 'ni2', 'ny6', 'od6', 'oo2', 'pf8', 'pi3', 'rd4', 're2', 're3', 'ro5', 'rr5', 'ru3', 'rw9', 'se1', 'sg6', 'so5', 'sp2', 'sq7', 'ss1', 'sw1', 'sz7', 'tg4', 'tr2', 'tr3', 'tt8', 'tz7', 'ud9', 'ui1', 'ui8', 'ut2', 'uu7', 'vf6', 'vg8', 'vi9', 'we2', 'wi7', 'wt2', 'wu9', 'xo4', 'xs0', 'xt7', 'xt8', 'xx1', 'xx8', 'xy9', 'ya2', 'ys3', 'za2', 'zq2', 'zs1', 'zt5', 'zu3', 'zu7', 'zu8', 'zu9']\n"
     ]
    }
   ],
   "source": [
    "\n",
    "# Specifying input data\n",
    "PATH = '/Users/pruthvi_local/Desktop/Lesion_Segmentation/Only_NIIs/'\n",
    "subject_nii=os.listdir(PATH)\n",
    "subject_list=[x.split('.')[0] for x in subject_nii]\n",
    "\n",
    "# print(subject_nii)\n",
    "print(subject_list)"
   ]
  },
  {
   "cell_type": "code",
   "execution_count": 57,
   "metadata": {},
   "outputs": [],
   "source": [
    "# 2.1 --Second option of getting centerline -- 2.1\n",
    "for subject in subject_list[:4]:\n",
    "    img_path = PATH + subject + '.nii'\n",
    "    out_path = '/Users/pruthvi_local/Desktop/Lesion_Segmentation/01_preprocess/01deepseg_sc'\n",
    "    sct.run(['sct_deepseg_sc', '-i', img_path, '-c', 't2', '-ofolder', out_path], verbose=0)\n"
   ]
  },
  {
   "cell_type": "code",
   "execution_count": null,
   "metadata": {},
   "outputs": [
    {
     "name": "stdout",
     "output_type": "stream",
     "text": [
      "['aa1_seg.nii', 'ap4_seg.nii', 'aq0_seg.nii', 'ar1_seg.nii']\n",
      "/Users/pruthvi_local/Desktop/Lesion_Segmentation/01_preprocess/01deepseg_sc/aa1_seg.nii\n"
     ]
    }
   ],
   "source": [
    "\n",
    "# Second option of getting centerline -- 2.2\n",
    "# Specifying input data\n",
    "\n",
    "PATH_22 = '/Users/pruthvi_local/Desktop/Lesion_Segmentation/01_preprocess/01deepseg_sc/'\n",
    "out_path = '/Users/pruthvi_local/Desktop/Lesion_Segmentation/01_preprocess/02sct_process_seg/'\n",
    "\n",
    "subject_list_22 = os.listdir(PATH_22)\n",
    "if '.DS_Store' in subject_list_22:\n",
    "    subject_list_22.remove('.DS_Store')\n",
    "    print(subject_list_22)    \n",
    "\n",
    "\n",
    "\n",
    "for subject in subject_list_22[:4]:\n",
    "    img_path = PATH_22 + subject\n",
    "    print(img_path)\n",
    "    sct.run(['sct_process_segmentation', '-i', img_path, '-p', 'centerline', '-ofolder', out_path], verbose=0)"
   ]
  },
  {
   "cell_type": "code",
   "execution_count": 4,
   "metadata": {},
   "outputs": [
    {
     "name": "stdout",
     "output_type": "stream",
     "text": [
      "/Users/pruthvi_local/Desktop/Lesion_Segmentation/01_preprocess/02sct_process_seg/aa1_seg_centerline.nii.gz\n",
      "/Users/pruthvi_local/Desktop/Lesion_Segmentation/01_preprocess/02sct_process_seg/ap4_seg_centerline.nii.gz\n",
      "/Users/pruthvi_local/Desktop/Lesion_Segmentation/01_preprocess/02sct_process_seg/aq0_seg_centerline.nii.gz\n",
      "/Users/pruthvi_local/Desktop/Lesion_Segmentation/01_preprocess/02sct_process_seg/ar1_seg_centerline.nii.gz\n"
     ]
    }
   ],
   "source": [
    "# Reorientation of original image and ROI\n",
    "\n",
    "for subject in subject_list[:4]:\n",
    "    img_path = PATH + subject + '.nii'\n",
    "    sct.run(['sct_image', '-i', img_path, ' -setorient RPI'], verbose=0)\n",
    "\n",
    "# Specifying roi data\n",
    "PATH_33 = '/Users/pruthvi_local/Desktop/Lesion_Segmentation/01_preprocess/02sct_process_seg/'\n",
    "  \n",
    "for subject in subject_list[:4]:\n",
    "    img_path = PATH_33 + subject + '_seg_centerline.nii.gz'\n",
    "    print img_path\n",
    "    sct.run(['sct_image', '-i', img_path, ' -setorient RPI'], verbose=0)\n"
   ]
  },
  {
   "cell_type": "code",
   "execution_count": 10,
   "metadata": {},
   "outputs": [
    {
     "name": "stdout",
     "output_type": "stream",
     "text": [
      "/Users/pruthvi_local/Desktop/Lesion_Segmentation/Only_NIIs/aa1.nii\n",
      "/Users/pruthvi_local/Desktop/Lesion_Segmentation/01_preprocess/02sct_process_seg/aa1_seg_centerline.nii.gz\n",
      "/Users/pruthvi_local/Desktop/Lesion_Segmentation/01_preprocess/03crop/aa1_crop.nii\n",
      "/Users/pruthvi_local/Desktop/Lesion_Segmentation/Only_NIIs/ap4.nii\n",
      "/Users/pruthvi_local/Desktop/Lesion_Segmentation/01_preprocess/02sct_process_seg/ap4_seg_centerline.nii.gz\n",
      "/Users/pruthvi_local/Desktop/Lesion_Segmentation/01_preprocess/03crop/ap4_crop.nii\n",
      "/Users/pruthvi_local/Desktop/Lesion_Segmentation/Only_NIIs/aq0.nii\n",
      "/Users/pruthvi_local/Desktop/Lesion_Segmentation/01_preprocess/02sct_process_seg/aq0_seg_centerline.nii.gz\n",
      "/Users/pruthvi_local/Desktop/Lesion_Segmentation/01_preprocess/03crop/aq0_crop.nii\n",
      "/Users/pruthvi_local/Desktop/Lesion_Segmentation/Only_NIIs/ar1.nii\n",
      "/Users/pruthvi_local/Desktop/Lesion_Segmentation/01_preprocess/02sct_process_seg/ar1_seg_centerline.nii.gz\n",
      "/Users/pruthvi_local/Desktop/Lesion_Segmentation/01_preprocess/03crop/ar1_crop.nii\n"
     ]
    }
   ],
   "source": [
    "# Cropping image\n",
    "PATH = '/Users/pruthvi_local/Desktop/Lesion_Segmentation/Only_NIIs/'\n",
    "ctr_path = '/Users/pruthvi_local/Desktop/Lesion_Segmentation/01_preprocess/02sct_process_seg/'\n",
    "out_path = '/Users/pruthvi_local/Desktop/Lesion_Segmentation/01_preprocess/03crop/'\n",
    "\n",
    "for subject in subject_list[:4]:\n",
    "    img_path = PATH + subject + '.nii'\n",
    "    ctr_path1 = ctr_path + subject + '_seg_centerline.nii.gz'\n",
    "    img_out_path = out_path + subject + '_crop.nii'\n",
    "    print(img_path)\n",
    "    print(ctr_path1)\n",
    "    print(img_out_path)\n",
    "\n",
    "    crop_image_around_centerline(img_path, ctr_path1, img_out_path, 48)"
   ]
  },
  {
   "cell_type": "code",
   "execution_count": 3,
   "metadata": {},
   "outputs": [],
   "source": [
    "# Standardize image intensities\n",
    "in_path = '/Users/pruthvi_local/Desktop/Lesion_Segmentation/01_preprocess/03crop/'\n",
    "ofolder_path = '/Users/pruthvi_local/Desktop/Lesion_Segmentation/01_preprocess/04Norm_Int/'\n",
    "for subject in subject_list[:4]:\n",
    "    img_in_path = in_path + subject + '_crop.nii'\n",
    "    img_out_path = ofolder_path + subject + '_norm.nii'\n",
    "    apply_intensity_normalization(img_in_path, img_out_path, 't2')"
   ]
  },
  {
   "cell_type": "code",
   "execution_count": null,
   "metadata": {},
   "outputs": [
    {
     "name": "stdout",
     "output_type": "stream",
     "text": [
      "['aa1_seg_centerline.nii.gz', 'ap4_seg_centerline.nii.gz', 'aq0_seg_centerline.nii.gz', 'ar1_seg_centerline.nii.gz']\n"
     ]
    }
   ],
   "source": [
    "# Resampling of image\n",
    "\n",
    "# Resample Input image\n",
    "out_path = '/Users/pruthvi_local/Desktop/Lesion_Segmentation/01_preprocess/05Resample/'\n",
    "PATH = '/Users/pruthvi_local/Desktop/Lesion_Segmentation/Only_NIIs/'\n",
    " \n",
    "for subject in subject_list[:4]:\n",
    "    img_path = PATH + subject + '.nii'\n",
    "    img_out_path = out_path + subject + '_resample.nii'\n",
    "    sct.run(['sct_resample', '-i', img_path, '-mm', '0.5x0.5x0.5', '-o', img_out_path], verbose=0)\n",
    "\n",
    "# Resample centerline mask   \n",
    "PATH_44 = '/Users/pruthvi_local/Desktop/Lesion_Segmentation/01_preprocess/02sct_process_seg/'\n",
    "out_path = '/Users/pruthvi_local/Desktop/Lesion_Segmentation/01_preprocess/05Resample/'\n",
    "\n",
    "subject_list_44 = os.listdir(PATH_44)\n",
    "if '.DS_Store' in subject_list_44:\n",
    "    subject_list_44.remove('.DS_Store')\n",
    "    print(subject_list_44)      \n",
    "\n",
    "\n",
    "for subject in subject_list_44[:4]:\n",
    "    img_path = PATH_44 + subject\n",
    "    img_out_path = out_path + subject + '_centerline_resample.nii'\n",
    "    sct.run(['sct_resample', '-i', img_path, '-mm', '0.5x0.5x0.5', '-o', img_out_path], verbose=0)\n",
    "\n",
    "    \n",
    "# Resample cropped image   \n",
    "  \n",
    "PATH_55 = '/Users/pruthvi_local/Desktop/Lesion_Segmentation/01_preprocess/04Norm_Int/'\n",
    "out_path = '/Users/pruthvi_local/Desktop/Lesion_Segmentation/01_preprocess/05Resample/'\n",
    "\n",
    "subject_list_55 = os.listdir(PATH_55)\n",
    "if '.DS_Store' in subject_list_55:\n",
    "        subject_list_55.remove('.DS_Store')\n",
    "        print(subject_list_55)\n",
    "        \n",
    "for subject in subject_list_55[1:5]:\n",
    "        img_path = PATH_55 + subject\n",
    "        img_out_path = out_path + subject + '_cropped_norm_resample.nii'\n",
    "        sct.run(['sct_resample', '-i', img_path, '-mm', '0.5x0.5x0.5', '-o', img_out_path], verbose=0)\n",
    "\n",
    "    "
   ]
  },
  {
   "cell_type": "code",
   "execution_count": null,
   "metadata": {},
   "outputs": [],
   "source": []
  }
 ],
 "metadata": {
  "kernelspec": {
   "display_name": "Python 2",
   "language": "python",
   "name": "python2"
  },
  "language_info": {
   "codemirror_mode": {
    "name": "ipython",
    "version": 2
   },
   "file_extension": ".py",
   "mimetype": "text/x-python",
   "name": "python",
   "nbconvert_exporter": "python",
   "pygments_lexer": "ipython2",
   "version": "2.7.12"
  }
 },
 "nbformat": 4,
 "nbformat_minor": 2
}
