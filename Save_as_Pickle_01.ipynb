{
 "cells": [
  {
   "cell_type": "code",
   "execution_count": 9,
   "metadata": {},
   "outputs": [],
   "source": [
    "import pandas as pd\n",
    "import os\n"
   ]
  },
  {
   "cell_type": "code",
   "execution_count": 10,
   "metadata": {},
   "outputs": [
    {
     "name": "stdout",
     "output_type": "stream",
     "text": [
      "t2\n"
     ]
    }
   ],
   "source": [
    "PATH = '/Users/pruthvi_local/Desktop/Lesion_Segmentation/01_preprocess/07Data_organized/'\n",
    "lst = os.listdir(PATH)\n",
    "if '.DS_Store' in lst:\n",
    "    lst.remove('.DS_Store')\n",
    "\n",
    "n=len(lst)\n",
    "a=\"t2\"\n",
    "contrast_lst=((((a)+'\\n'))[:-1])\n",
    "subject_dict = pd.DataFrame({\"subject\": lst, \"contrast_foldname \": contrast_lst})\n",
    "subject_dict.to_pickle(\"/Users/pruthvi_local/Desktop/Lesion_Segmentation/01_preprocess/subject_dict.pkl\")"
   ]
  },
  {
   "cell_type": "code",
   "execution_count": null,
   "metadata": {},
   "outputs": [],
   "source": []
  }
 ],
 "metadata": {
  "kernelspec": {
   "display_name": "Python 2",
   "language": "python",
   "name": "python2"
  },
  "language_info": {
   "codemirror_mode": {
    "name": "ipython",
    "version": 2
   },
   "file_extension": ".py",
   "mimetype": "text/x-python",
   "name": "python",
   "nbconvert_exporter": "python",
   "pygments_lexer": "ipython2",
   "version": "2.7.12"
  }
 },
 "nbformat": 4,
 "nbformat_minor": 2
}
