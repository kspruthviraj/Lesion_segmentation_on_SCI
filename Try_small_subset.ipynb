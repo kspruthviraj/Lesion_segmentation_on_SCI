{
 "cells": [
  {
   "cell_type": "code",
   "execution_count": 19,
   "metadata": {},
   "outputs": [],
   "source": [
    "import os\n",
    "\n",
    "from msct_image import Image\n",
    "from sct_deepseg_lesion import crop_image_around_centerline \n",
    "from sct_deepseg_lesion import apply_intensity_normalization"
   ]
  },
  {
   "cell_type": "code",
   "execution_count": null,
   "metadata": {},
   "outputs": [],
   "source": [
    "\n",
    "# Specifying input data\n",
    "PATH = '/Users/pruthvi_local/Desktop/Lesion_Segmentation/Only_NIIs/'\n",
    "subject_nii=os.listdir(PATH)\n",
    "subject_list=[x.split('.')[0] for x in subject_nii]\n",
    "\n",
    "# print(subject_nii)\n",
    "print(subject_list)"
   ]
  },
  {
   "cell_type": "code",
   "execution_count": 2,
   "metadata": {},
   "outputs": [],
   "source": [
    "# 2.1 --Second option of getting centerline -- 2.1\n",
    "for xx in range(2):\n",
    "    img_path = PATH + subject_list[xx] + '.nii'\n",
    "    out_path = '/Users/pruthvi_local/Desktop/Lesion_Segmentation/01_preprocess/sct_deepseg_sc_output'\n",
    "    cmd_sct_deepseg_sc ='sct_deepseg_sc -i ' + img_path + ' -c t2 -ofolder ' + out_path\n",
    "    os.system(cmd_sct_deepseg_sc)"
   ]
  },
  {
   "cell_type": "code",
   "execution_count": 4,
   "metadata": {},
   "outputs": [],
   "source": [
    "# Second option of getting centerline -- 2.2\n",
    "\n",
    "# Specifying input data\n",
    "PATH_22 = '/Users/pruthvi_local/Desktop/Lesion_Segmentation/01_preprocess/sct_deepseg_sc_output/'\n",
    "subject_nii_22=os.listdir(PATH_22)\n",
    "subject_list_22=[x.split('.')[0] for x in subject_nii_22]\n",
    "\n",
    "out_path = '/Users/pruthvi_local/Desktop/Lesion_Segmentation/01_preprocess/02sct_process_seg'\n",
    "\n",
    "for xx in range(2):\n",
    "    img_path = PATH_22 + subject_list_22[xx] + '.nii'\n",
    "    cmd_sct_process_seg ='sct_process_segmentation -i ' + img_path + ' -p centerline -ofolder ' + out_path\n",
    "    os.system(cmd_sct_process_seg)"
   ]
  },
  {
   "cell_type": "code",
   "execution_count": 16,
   "metadata": {},
   "outputs": [
    {
     "name": "stdout",
     "output_type": "stream",
     "text": [
      "['aa1', 'ap4', 'aq0', 'ar1', 'ar2', 'au8', 'av9', 'aw5', 'ax9', 'az7', 'bc8', 'bf1', 'bf7', 'bg1', 'bh1', 'ca3', 'cc4', 'cd2', 'cf7', 'ci0', 'cj9', 'ck9', 'cu8', 'cv2', 'cv6', 'cw2', 'cx8', 'cy7', 'dc6', 'dd8', 'de3', 'df0', 'df1', 'df6', 'do0', 'do9', 'dp0', 'dp9', 'dq1', 'dt6', 'du3', 'dw3', 'dw4', 'dz2', 'dz3', 'ej4', 'ep7', 'eq1', 'er3', 'er9', 'et5', 'fd2', 'fd5', 'fd6', 'fd8', 'fe8', 'ff8', 'fo3', 'fo5', 'fq7', 'fr2', 'fu3', 'fu9', 'ga6', 'gc6', 'gf1', 'gf2', 'gg0', 'gg2', 'gg8', 'gg9', 'gh1', 'gh5', 'gt2', 'gt6', 'gt8', 'hc4', 'hc7', 'hh8', 'hj8', 'hj9', 'ho5', 'hq0', 'ht6', 'ht7', 'hu2', 'id9', 'ij7', 'ir2', 'it7', 'iu3', 'ji1', 'jj3', 'ju7', 'ka2', 'ka8', 'ka9', 'ke4', 'ki3', 'kj2', 'kj9', 'kn6', 'ko0', 'ko1', 'ky3', 'la9', 'lj7', 'lk2', 'lo8', 'lp0', 'md4', 'md8', 'mf0', 'mf5', 'mo9', 'mq7', 'ni2', 'ny6', 'od6', 'oo2', 'pf8', 'pi3', 'rd4', 're2', 're3', 'ro5', 'rr5', 'ru3', 'rw9', 'se1', 'sg6', 'so5', 'sp2', 'sq7', 'ss1', 'sw1', 'sz7', 'tg4', 'tr2', 'tr3', 'tt8', 'tz7', 'ud9', 'ui1', 'ui8', 'ut2', 'uu7', 'vf6', 'vg8', 'vi9', 'we2', 'wi7', 'wt2', 'wu9', 'xo4', 'xs0', 'xt7', 'xt8', 'xx1', 'xx8', 'xy9', 'ya2', 'ys3', 'za2', 'zq2', 'zs1', 'zt5', 'zu3', 'zu7', 'zu8', 'zu9']\n",
      "/Users/pruthvi_local/Desktop/Lesion_Segmentation/Only_NIIs/aa1.nii\n",
      "/Users/pruthvi_local/Desktop/Lesion_Segmentation/Only_NIIs/ap4.nii\n",
      "['', 'aa1_seg_centerline', 'aa1_seg_centerline', 'aa1_seg_centerline', 'ap4_seg_centerline', 'ap4_seg_centerline', 'ap4_seg_centerline']\n",
      "/Users/pruthvi_local/Desktop/Lesion_Segmentation/01_preprocess/02sct_process_seg/aa1_seg_centerline.nii.gz\n",
      "/Users/pruthvi_local/Desktop/Lesion_Segmentation/01_preprocess/02sct_process_seg/aa1_seg_centerline.nii.gz\n",
      "/Users/pruthvi_local/Desktop/Lesion_Segmentation/01_preprocess/02sct_process_seg/aa1_seg_centerline.nii.gz\n",
      "/Users/pruthvi_local/Desktop/Lesion_Segmentation/01_preprocess/02sct_process_seg/ap4_seg_centerline.nii.gz\n"
     ]
    }
   ],
   "source": [
    "# Reorientation of original image and ROI\n",
    "\n",
    "# Specifying input data\n",
    "PATH_22 = '/Users/pruthvi_local/Desktop/Lesion_Segmentation/Only_NIIs/'\n",
    "subject_nii_22=os.listdir(PATH_22)\n",
    "subject_list_22=[x.split('.')[0] for x in subject_nii_22]\n",
    "print(subject_list_22)\n",
    "  \n",
    "for xx in range(0,2):\n",
    "    img_path = PATH_22 + subject_list_22[xx] + '.nii'\n",
    "    print img_path\n",
    "    cmd_reorient ='sct_image -i ' + img_path + ' -setorient RPI'\n",
    "    os.system(cmd_reorient) \n",
    "\n",
    "\n",
    "# Specifying roi data\n",
    "PATH_22 = '/Users/pruthvi_local/Desktop/Lesion_Segmentation/01_preprocess/02sct_process_seg/'\n",
    "subject_nii_22=os.listdir(PATH_22)\n",
    "subject_list_22=[x.split('.')[0] for x in subject_nii_22]\n",
    "print(subject_list_22)\n",
    "  \n",
    "for xx in range(1,5):\n",
    "    img_path = PATH_22 + subject_list_22[xx] + '.nii.gz'\n",
    "    print img_path\n",
    "    cmd_reorient ='sct_image -i ' + img_path + ' -setorient RPI'\n",
    "    os.system(cmd_reorient) "
   ]
  },
  {
   "cell_type": "code",
   "execution_count": 22,
   "metadata": {},
   "outputs": [
    {
     "ename": "FileNotFoundError",
     "evalue": "No such file: '/Users/pruthvi_local/Desktop/Lesion_Segmentation/01_preprocess/02sct_process_seg/aq0_seg_centerline.nii.gz'",
     "output_type": "error",
     "traceback": [
      "\u001b[0;31m---------------------------------------------------------------------------\u001b[0m",
      "\u001b[0;31mFileNotFoundError\u001b[0m                         Traceback (most recent call last)",
      "\u001b[0;32m<ipython-input-22-16c26d4943aa>\u001b[0m in \u001b[0;36m<module>\u001b[0;34m()\u001b[0m\n\u001b[1;32m      8\u001b[0m     \u001b[0mctr_path1\u001b[0m \u001b[0;34m=\u001b[0m \u001b[0mctr_path\u001b[0m \u001b[0;34m+\u001b[0m \u001b[0msubject\u001b[0m \u001b[0;34m+\u001b[0m \u001b[0;34m'_seg_centerline.nii.gz'\u001b[0m\u001b[0;34m\u001b[0m\u001b[0m\n\u001b[1;32m      9\u001b[0m     \u001b[0mimg_out_path\u001b[0m \u001b[0;34m=\u001b[0m \u001b[0mout_path\u001b[0m \u001b[0;34m+\u001b[0m \u001b[0msubject\u001b[0m \u001b[0;34m+\u001b[0m \u001b[0;34m'_crop.nii'\u001b[0m\u001b[0;34m\u001b[0m\u001b[0m\n\u001b[0;32m---> 10\u001b[0;31m     \u001b[0mcrop_image_around_centerline\u001b[0m\u001b[0;34m(\u001b[0m\u001b[0mimg_path\u001b[0m\u001b[0;34m,\u001b[0m \u001b[0mctr_path1\u001b[0m\u001b[0;34m,\u001b[0m \u001b[0mimg_out_path\u001b[0m\u001b[0;34m,\u001b[0m \u001b[0;36m48\u001b[0m\u001b[0;34m)\u001b[0m\u001b[0;34m\u001b[0m\u001b[0m\n\u001b[0m",
      "\u001b[0;32m/Users/pruthvi_local/Desktop/Spinal_cord_toolbox/sct/scripts/sct_deepseg_lesion.pyc\u001b[0m in \u001b[0;36mcrop_image_around_centerline\u001b[0;34m(filename_in, filename_ctr, filename_out, crop_size)\u001b[0m\n\u001b[1;32m    163\u001b[0m \u001b[0;32mdef\u001b[0m \u001b[0mcrop_image_around_centerline\u001b[0m\u001b[0;34m(\u001b[0m\u001b[0mfilename_in\u001b[0m\u001b[0;34m,\u001b[0m \u001b[0mfilename_ctr\u001b[0m\u001b[0;34m,\u001b[0m \u001b[0mfilename_out\u001b[0m\u001b[0;34m,\u001b[0m \u001b[0mcrop_size\u001b[0m\u001b[0;34m)\u001b[0m\u001b[0;34m:\u001b[0m\u001b[0;34m\u001b[0m\u001b[0m\n\u001b[1;32m    164\u001b[0m     \u001b[0;34m\"\"\"Crop the input image around the input centerline file.\"\"\"\u001b[0m\u001b[0;34m\u001b[0m\u001b[0m\n\u001b[0;32m--> 165\u001b[0;31m     \u001b[0mim_in\u001b[0m\u001b[0;34m,\u001b[0m \u001b[0mdata_ctr\u001b[0m \u001b[0;34m=\u001b[0m \u001b[0mImage\u001b[0m\u001b[0;34m(\u001b[0m\u001b[0mfilename_in\u001b[0m\u001b[0;34m)\u001b[0m\u001b[0;34m,\u001b[0m \u001b[0mImage\u001b[0m\u001b[0;34m(\u001b[0m\u001b[0mfilename_ctr\u001b[0m\u001b[0;34m)\u001b[0m\u001b[0;34m.\u001b[0m\u001b[0mdata\u001b[0m\u001b[0;34m.\u001b[0m\u001b[0mastype\u001b[0m\u001b[0;34m(\u001b[0m\u001b[0mnp\u001b[0m\u001b[0;34m.\u001b[0m\u001b[0mint8\u001b[0m\u001b[0;34m)\u001b[0m\u001b[0;34m\u001b[0m\u001b[0m\n\u001b[0m\u001b[1;32m    166\u001b[0m     \u001b[0mdata_in\u001b[0m \u001b[0;34m=\u001b[0m \u001b[0mim_in\u001b[0m\u001b[0;34m.\u001b[0m\u001b[0mdata\u001b[0m\u001b[0;34m.\u001b[0m\u001b[0mastype\u001b[0m\u001b[0;34m(\u001b[0m\u001b[0mnp\u001b[0m\u001b[0;34m.\u001b[0m\u001b[0mfloat32\u001b[0m\u001b[0;34m)\u001b[0m\u001b[0;34m\u001b[0m\u001b[0m\n\u001b[1;32m    167\u001b[0m \u001b[0;34m\u001b[0m\u001b[0m\n",
      "\u001b[0;32m/Users/pruthvi_local/Desktop/Spinal_cord_toolbox/sct/scripts/msct_image.pyc\u001b[0m in \u001b[0;36m__init__\u001b[0;34m(self, param, hdr, orientation, absolutepath, dim, verbose)\u001b[0m\n\u001b[1;32m    368\u001b[0m         \u001b[0;31m# load an image from file\u001b[0m\u001b[0;34m\u001b[0m\u001b[0;34m\u001b[0m\u001b[0m\n\u001b[1;32m    369\u001b[0m         \u001b[0;32mif\u001b[0m \u001b[0misinstance\u001b[0m\u001b[0;34m(\u001b[0m\u001b[0mparam\u001b[0m\u001b[0;34m,\u001b[0m \u001b[0mstr\u001b[0m\u001b[0;34m)\u001b[0m \u001b[0;32mor\u001b[0m \u001b[0;34m(\u001b[0m\u001b[0msys\u001b[0m\u001b[0;34m.\u001b[0m\u001b[0mhexversion\u001b[0m \u001b[0;34m<\u001b[0m \u001b[0;36m0x03000000\u001b[0m \u001b[0;32mand\u001b[0m \u001b[0misinstance\u001b[0m\u001b[0;34m(\u001b[0m\u001b[0mparam\u001b[0m\u001b[0;34m,\u001b[0m \u001b[0municode\u001b[0m\u001b[0;34m)\u001b[0m\u001b[0;34m)\u001b[0m\u001b[0;34m:\u001b[0m\u001b[0;34m\u001b[0m\u001b[0m\n\u001b[0;32m--> 370\u001b[0;31m             \u001b[0mself\u001b[0m\u001b[0;34m.\u001b[0m\u001b[0mloadFromPath\u001b[0m\u001b[0;34m(\u001b[0m\u001b[0mparam\u001b[0m\u001b[0;34m,\u001b[0m \u001b[0mverbose\u001b[0m\u001b[0;34m)\u001b[0m\u001b[0;34m\u001b[0m\u001b[0m\n\u001b[0m\u001b[1;32m    371\u001b[0m             \u001b[0mself\u001b[0m\u001b[0;34m.\u001b[0m\u001b[0mcompute_transform_matrix\u001b[0m\u001b[0;34m(\u001b[0m\u001b[0;34m)\u001b[0m\u001b[0;34m\u001b[0m\u001b[0m\n\u001b[1;32m    372\u001b[0m         \u001b[0;31m# copy constructor\u001b[0m\u001b[0;34m\u001b[0m\u001b[0;34m\u001b[0m\u001b[0m\n",
      "\u001b[0;32m/Users/pruthvi_local/Desktop/Spinal_cord_toolbox/sct/scripts/msct_image.pyc\u001b[0m in \u001b[0;36mloadFromPath\u001b[0;34m(self, path, verbose)\u001b[0m\n\u001b[1;32m    432\u001b[0m \u001b[0;34m\u001b[0m\u001b[0m\n\u001b[1;32m    433\u001b[0m         \u001b[0;32mtry\u001b[0m\u001b[0;34m:\u001b[0m\u001b[0;34m\u001b[0m\u001b[0m\n\u001b[0;32m--> 434\u001b[0;31m             \u001b[0mself\u001b[0m\u001b[0;34m.\u001b[0m\u001b[0mim_file\u001b[0m \u001b[0;34m=\u001b[0m \u001b[0mload\u001b[0m\u001b[0;34m(\u001b[0m\u001b[0mpath\u001b[0m\u001b[0;34m)\u001b[0m\u001b[0;34m\u001b[0m\u001b[0m\n\u001b[0m\u001b[1;32m    435\u001b[0m         \u001b[0;32mexcept\u001b[0m \u001b[0mspatialimages\u001b[0m\u001b[0;34m.\u001b[0m\u001b[0mImageFileError\u001b[0m\u001b[0;34m:\u001b[0m\u001b[0;34m\u001b[0m\u001b[0m\n\u001b[1;32m    436\u001b[0m             \u001b[0msct\u001b[0m\u001b[0;34m.\u001b[0m\u001b[0mprintv\u001b[0m\u001b[0;34m(\u001b[0m\u001b[0;34m'Error: make sure '\u001b[0m \u001b[0;34m+\u001b[0m \u001b[0mpath\u001b[0m \u001b[0;34m+\u001b[0m \u001b[0;34m' is an image.'\u001b[0m\u001b[0;34m,\u001b[0m \u001b[0;36m1\u001b[0m\u001b[0;34m,\u001b[0m \u001b[0;34m'error'\u001b[0m\u001b[0;34m)\u001b[0m\u001b[0;34m\u001b[0m\u001b[0m\n",
      "\u001b[0;32m/Users/pruthvi_local/Desktop/Spinal_cord_toolbox/sct/python/lib/python2.7/site-packages/nibabel/loadsave.pyc\u001b[0m in \u001b[0;36mload\u001b[0;34m(filename, **kwargs)\u001b[0m\n\u001b[1;32m     38\u001b[0m     '''\n\u001b[1;32m     39\u001b[0m     \u001b[0;32mif\u001b[0m \u001b[0;32mnot\u001b[0m \u001b[0mop\u001b[0m\u001b[0;34m.\u001b[0m\u001b[0mexists\u001b[0m\u001b[0;34m(\u001b[0m\u001b[0mfilename\u001b[0m\u001b[0;34m)\u001b[0m\u001b[0;34m:\u001b[0m\u001b[0;34m\u001b[0m\u001b[0m\n\u001b[0;32m---> 40\u001b[0;31m         \u001b[0;32mraise\u001b[0m \u001b[0mFileNotFoundError\u001b[0m\u001b[0;34m(\u001b[0m\u001b[0;34m\"No such file: '%s'\"\u001b[0m \u001b[0;34m%\u001b[0m \u001b[0mfilename\u001b[0m\u001b[0;34m)\u001b[0m\u001b[0;34m\u001b[0m\u001b[0m\n\u001b[0m\u001b[1;32m     41\u001b[0m     \u001b[0msniff\u001b[0m \u001b[0;34m=\u001b[0m \u001b[0mNone\u001b[0m\u001b[0;34m\u001b[0m\u001b[0m\n\u001b[1;32m     42\u001b[0m     \u001b[0;32mfor\u001b[0m \u001b[0mimage_klass\u001b[0m \u001b[0;32min\u001b[0m \u001b[0mall_image_classes\u001b[0m\u001b[0;34m:\u001b[0m\u001b[0;34m\u001b[0m\u001b[0m\n",
      "\u001b[0;31mFileNotFoundError\u001b[0m: No such file: '/Users/pruthvi_local/Desktop/Lesion_Segmentation/01_preprocess/02sct_process_seg/aq0_seg_centerline.nii.gz'"
     ]
    }
   ],
   "source": [
    "# Cropping image\n",
    "in_path = '/Users/pruthvi_local/Desktop/Lesion_Segmentation/Only_NIIs/'\n",
    "ctr_path = '/Users/pruthvi_local/Desktop/Lesion_Segmentation/01_preprocess/02sct_process_seg/'\n",
    "out_path = '/Users/pruthvi_local/Desktop/Lesion_Segmentation/01_preprocess/03crop/'\n",
    "\n",
    "for subject in subject_list:\n",
    "    img_path = PATH + subject + '.nii'\n",
    "    ctr_path1 = ctr_path + subject + '_seg_centerline.nii.gz'\n",
    "    img_out_path = out_path + subject + '_crop.nii'\n",
    "    crop_image_around_centerline(img_path, ctr_path1, img_out_path, 48)"
   ]
  },
  {
   "cell_type": "code",
   "execution_count": 35,
   "metadata": {},
   "outputs": [
    {
     "name": "stdout",
     "output_type": "stream",
     "text": [
      "['aa1', 'ap4', 'aq0', 'ar1', 'ar2', 'au8', 'av9', 'aw5', 'ax9', 'az7', 'bc8', 'bf1', 'bf7', 'bg1', 'bh1', 'ca3', 'cc4', 'cd2', 'cf7', 'ci0', 'cj9', 'ck9', 'cu8', 'cv2', 'cv6', 'cw2', 'cx8', 'cy7', 'dc6', 'dd8', 'de3', 'df0', 'df1', 'df6', 'do0', 'do9', 'dp0', 'dp9', 'dq1', 'dt6', 'du3', 'dw3', 'dw4', 'dz2', 'dz3', 'ej4', 'ep7', 'eq1', 'er3', 'er9', 'et5', 'fd2', 'fd5', 'fd6', 'fd8', 'fe8', 'ff8', 'fo3', 'fo5', 'fq7', 'fr2', 'fu3', 'fu9', 'ga6', 'gc6', 'gf1', 'gf2', 'gg0', 'gg2', 'gg8', 'gg9', 'gh1', 'gh5', 'gt2', 'gt6', 'gt8', 'hc4', 'hc7', 'hh8', 'hj8', 'hj9', 'ho5', 'hq0', 'ht6', 'ht7', 'hu2', 'id9', 'ij7', 'ir2', 'it7', 'iu3', 'ji1', 'jj3', 'ju7', 'ka2', 'ka8', 'ka9', 'ke4', 'ki3', 'kj2', 'kj9', 'kn6', 'ko0', 'ko1', 'ky3', 'la9', 'lj7', 'lk2', 'lo8', 'lp0', 'md4', 'md8', 'mf0', 'mf5', 'mo9', 'mq7', 'ni2', 'ny6', 'od6', 'oo2', 'pf8', 'pi3', 'rd4', 're2', 're3', 'ro5', 'rr5', 'ru3', 'rw9', 'se1', 'sg6', 'so5', 'sp2', 'sq7', 'ss1', 'sw1', 'sz7', 'tg4', 'tr2', 'tr3', 'tt8', 'tz7', 'ud9', 'ui1', 'ui8', 'ut2', 'uu7', 'vf6', 'vg8', 'vi9', 'we2', 'wi7', 'wt2', 'wu9', 'xo4', 'xs0', 'xt7', 'xt8', 'xx1', 'xx8', 'xy9', 'ya2', 'ys3', 'za2', 'zq2', 'zs1', 'zt5', 'zu3', 'zu7', 'zu8', 'zu9']\n",
      "/Users/pruthvi_local/Desktop/Lesion_Segmentation/01_preprocess/03crop/aa1_crop.nii\n",
      "/Users/pruthvi_local/Desktop/Lesion_Segmentation/01_preprocess/03crop/ap4_crop.nii\n"
     ]
    }
   ],
   "source": [
    "# Standardize image intensities\n",
    "in_path = '/Users/pruthvi_local/Desktop/Lesion_Segmentation/01_preprocess/03crop/'\n",
    "out_path = '/Users/pruthvi_local/Desktop/Lesion_Segmentation/01_preprocess/04Norm_Int/'\n",
    "print(subject_list)\n",
    "for xx in range(2):\n",
    "#for subject in subject_list:\n",
    "    img_path = in_path + subject_list[xx] + '_crop.nii'\n",
    "    print(img_path)\n",
    "    apply_intensity_normalization(img_path, out_path, 't2')"
   ]
  },
  {
   "cell_type": "code",
   "execution_count": null,
   "metadata": {},
   "outputs": [],
   "source": [
    "# Resampling of image\n",
    "out_path = '/Users/pruthvi_local/Desktop/Lesion_Segmentation/01_preprocess/reorient_output'\n",
    "  \n",
    "for subject in subject_list:\n",
    "    img_path = PATH + subject + '.nii'\n",
    "    cmd_resample ='sct_resample -i ' + img_path + ' -mm 0.5 -ofolder ' + out_path\n",
    "    os.system(cmd_resample) "
   ]
  }
 ],
 "metadata": {
  "kernelspec": {
   "display_name": "Python 2",
   "language": "python",
   "name": "python2"
  },
  "language_info": {
   "codemirror_mode": {
    "name": "ipython",
    "version": 2
   },
   "file_extension": ".py",
   "mimetype": "text/x-python",
   "name": "python",
   "nbconvert_exporter": "python",
   "pygments_lexer": "ipython2",
   "version": "2.7.12"
  }
 },
 "nbformat": 4,
 "nbformat_minor": 2
}
